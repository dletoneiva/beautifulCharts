{
 "cells": [
  {
   "cell_type": "code",
   "execution_count": 4,
   "metadata": {},
   "outputs": [
    {
     "data": {
      "text/plain": [
       "['#DB6B2E', '#E28958', '#E9A682', '#F1C4AB', '#F8E1D5']"
      ]
     },
     "execution_count": 4,
     "metadata": {},
     "output_type": "execute_result"
    }
   ],
   "source": [
    "import BeautifulChart as bc\n",
    "color_palette = ['#DB6B2E', '#E28958', '#E9A682', '#F1C4AB','#F8E1D5']\n",
    "\n",
    "bc.Chart().changeColorPalettePrimary(color_palette, showPalette=0)\n"
   ]
  },
  {
   "cell_type": "code",
   "execution_count": 8,
   "metadata": {},
   "outputs": [
    {
     "data": {
      "text/html": [
       "<div>\n",
       "<style scoped>\n",
       "    .dataframe tbody tr th:only-of-type {\n",
       "        vertical-align: middle;\n",
       "    }\n",
       "\n",
       "    .dataframe tbody tr th {\n",
       "        vertical-align: top;\n",
       "    }\n",
       "\n",
       "    .dataframe thead th {\n",
       "        text-align: right;\n",
       "    }\n",
       "</style>\n",
       "<table border=\"1\" class=\"dataframe\">\n",
       "  <thead>\n",
       "    <tr style=\"text-align: right;\">\n",
       "      <th></th>\n",
       "      <th>alianca</th>\n",
       "      <th>tribo</th>\n",
       "      <th>diferencaProposta</th>\n",
       "    </tr>\n",
       "  </thead>\n",
       "  <tbody>\n",
       "    <tr>\n",
       "      <th>0</th>\n",
       "      <td>Camaleão</td>\n",
       "      <td>Spectrum</td>\n",
       "      <td>Diferença de, aproximadamente, 2k</td>\n",
       "    </tr>\n",
       "    <tr>\n",
       "      <th>1</th>\n",
       "      <td>Triforce</td>\n",
       "      <td>Sparta</td>\n",
       "      <td>Diferença de, aproximadamente, 3k</td>\n",
       "    </tr>\n",
       "    <tr>\n",
       "      <th>2</th>\n",
       "      <td>Rubix</td>\n",
       "      <td>Minecrafters</td>\n",
       "      <td>A pessoa preferiu não falar</td>\n",
       "    </tr>\n",
       "    <tr>\n",
       "      <th>3</th>\n",
       "      <td>Triforce</td>\n",
       "      <td>Alexandria</td>\n",
       "      <td>Diferença de, aproximadamente, 3k</td>\n",
       "    </tr>\n",
       "    <tr>\n",
       "      <th>4</th>\n",
       "      <td>Nova</td>\n",
       "      <td>Orion</td>\n",
       "      <td>Diferença de, aproximadamente, 3k</td>\n",
       "    </tr>\n",
       "    <tr>\n",
       "      <th>...</th>\n",
       "      <td>...</td>\n",
       "      <td>...</td>\n",
       "      <td>...</td>\n",
       "    </tr>\n",
       "    <tr>\n",
       "      <th>57</th>\n",
       "      <td>Camaleão</td>\n",
       "      <td>Pardalis</td>\n",
       "      <td>Não teve diferença tão significativa</td>\n",
       "    </tr>\n",
       "    <tr>\n",
       "      <th>58</th>\n",
       "      <td>Nova</td>\n",
       "      <td>Fênix</td>\n",
       "      <td>Diferença maior que 5k</td>\n",
       "    </tr>\n",
       "    <tr>\n",
       "      <th>59</th>\n",
       "      <td>Hakuna</td>\n",
       "      <td>Javalis</td>\n",
       "      <td>Não se aplica</td>\n",
       "    </tr>\n",
       "    <tr>\n",
       "      <th>60</th>\n",
       "      <td>Rackers</td>\n",
       "      <td>Vikings</td>\n",
       "      <td>Não teve diferença tão significativa</td>\n",
       "    </tr>\n",
       "    <tr>\n",
       "      <th>61</th>\n",
       "      <td>Camaleão</td>\n",
       "      <td>Kalangus</td>\n",
       "      <td>Diferença de, aproximadamente, 2k</td>\n",
       "    </tr>\n",
       "  </tbody>\n",
       "</table>\n",
       "<p>62 rows × 3 columns</p>\n",
       "</div>"
      ],
      "text/plain": [
       "     alianca         tribo                     diferencaProposta\n",
       "0   Camaleão      Spectrum     Diferença de, aproximadamente, 2k\n",
       "1   Triforce        Sparta     Diferença de, aproximadamente, 3k\n",
       "2      Rubix  Minecrafters           A pessoa preferiu não falar\n",
       "3   Triforce    Alexandria     Diferença de, aproximadamente, 3k\n",
       "4       Nova         Orion     Diferença de, aproximadamente, 3k\n",
       "..       ...           ...                                   ...\n",
       "57  Camaleão      Pardalis  Não teve diferença tão significativa\n",
       "58      Nova         Fênix                Diferença maior que 5k\n",
       "59    Hakuna       Javalis                         Não se aplica\n",
       "60   Rackers       Vikings  Não teve diferença tão significativa\n",
       "61  Camaleão      Kalangus     Diferença de, aproximadamente, 2k\n",
       "\n",
       "[62 rows x 3 columns]"
      ]
     },
     "execution_count": 8,
     "metadata": {},
     "output_type": "execute_result"
    }
   ],
   "source": [
    "import pandas as pd\n",
    "df = pd.read_excel('data_stackedBar.xlsx')"
   ]
  }
 ],
 "metadata": {
  "interpreter": {
   "hash": "b3ba2566441a7c06988d0923437866b63cedc61552a5af99d1f4fb67d367b25f"
  },
  "kernelspec": {
   "display_name": "Python 3.8.5 64-bit ('base': conda)",
   "name": "python3"
  },
  "language_info": {
   "codemirror_mode": {
    "name": "ipython",
    "version": 3
   },
   "file_extension": ".py",
   "mimetype": "text/x-python",
   "name": "python",
   "nbconvert_exporter": "python",
   "pygments_lexer": "ipython3",
   "version": "3.8.5"
  },
  "orig_nbformat": 4
 },
 "nbformat": 4,
 "nbformat_minor": 2
}
